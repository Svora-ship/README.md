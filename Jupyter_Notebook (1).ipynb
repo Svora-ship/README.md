{
 "cells": [
  {
   "cell_type": "markdown",
   "metadata": {},
   "source": [
    "<center>\n",
    "    <img src=\"https://cf-courses-data.s3.us.cloud-object-storage.appdomain.cloud/IBMDeveloperSkillsNetwork-DS0105EN-SkillsNetwork/labs/Module2/images/SN_web_lightmode.png\" width=\"300\" alt=\"cognitiveclass.ai logo\">\n",
    "</center>\n"
   ]
  },
  {
   "cell_type": "markdown",
   "metadata": {},
   "source": [
    "#### Add your code below following the instructions given in the course\n"
   ]
  },
  {
   "cell_type": "markdown",
   "metadata": {},
   "source": [
    "*****Shubham Vora- Test*****"
   ]
  },
  {
   "cell_type": "markdown",
   "metadata": {},
   "source": [
    "**This Test is to determine the understanding of jupiter note book and its various various languages**"
   ]
  },
  {
   "cell_type": "markdown",
   "metadata": {},
   "source": [
    "2. Create a markdown cell to list data science languages<br>\n",
    "<br>\n",
    "Python <br>\n",
    "R <br>\n",
    "SQL <br>\n",
    "Java <br>\n",
    "Julia <br>\n",
    "Scala <br>\n",
    "C/C++ <br>\n",
    "JavaScript <br>\n",
    "Swift <br>\n",
    "Go <br>\n",
    "MATLAB <br>\n",
    "SAS <br>"
   ]
  },
  {
   "cell_type": "markdown",
   "metadata": {},
   "source": [
    "3. Create a markdown cell to list data science libraries<br>\n",
    "<br>\n",
    "TensorFlow<br>\n",
    "NumPy<br>\n",
    "SciPy <br>\n",
    "Pandas<br>\n",
    "Matplotlib <br>\n",
    "Keras<br>\n",
    "SciKit-Learn<br>\n",
    "PyTorch<br>\n",
    "Scrapy<br>\n",
    "BeautifulSoup<br>"
   ]
  },
  {
   "cell_type": "markdown",
   "metadata": {},
   "source": [
    "4.Create a markdown cell with a table of Data Science tools."
   ]
  },
  {
   "cell_type": "markdown",
   "metadata": {},
   "source": [
    "|Sr No.| Data Science Tools|\n",
    "| -- | ------------------| \n",
    "|1|Statistical Analysis System|\n",
    "|2|Apache Hadoop|\n",
    "|3|Tableau|\n",
    "|4|TensorFlow|\n",
    "|5|BigML|\n",
    "|6|Knime|\n",
    "|7|RapidMiner|\n",
    "|8|Excel|\n",
    "|9|Apache Flink|\n",
    "|10|PowerBI|\n",
    "|11|Google Analytics|\n",
    "|12|Python|\n",
    "|13|R (RStudio)|\n",
    "|14|DataRobot|\n",
    "|15|D3.js|\n",
    "|14|Microsoft HDInsight|\n",
    "|14|Jupyter|\n",
    "|14|Matplotlib|\n",
    "|14|MATLAB|\n",
    "|14|QlikView|\n",
    "\n",
    "\n"
   ]
  },
  {
   "cell_type": "markdown",
   "metadata": {},
   "source": [
    "5. Create a markdown cell introducing arithmetic expression examples"
   ]
  },
  {
   "cell_type": "markdown",
   "metadata": {},
   "source": [
    "This is Pythogorus theorem $$x^2+Y^2=z^2$$"
   ]
  },
  {
   "cell_type": "markdown",
   "metadata": {},
   "source": [
    "6.Create a code cell to multiply and add numbers."
   ]
  },
  {
   "cell_type": "code",
   "execution_count": 19,
   "metadata": {},
   "outputs": [
    {
     "name": "stdout",
     "output_type": "stream",
     "text": [
      "6\n",
      "9\n"
     ]
    }
   ],
   "source": [
    "print( 3+3 )\n",
    "print( 3*3 )"
   ]
  },
  {
   "cell_type": "markdown",
   "metadata": {},
   "source": [
    "7. Create a code cell to convert minutes to hours"
   ]
  },
  {
   "cell_type": "code",
   "execution_count": 22,
   "metadata": {},
   "outputs": [
    {
     "name": "stdout",
     "output_type": "stream",
     "text": [
      "2\n"
     ]
    }
   ],
   "source": [
    "total_minutes = 120\n",
    "\n",
    "hours = total_minutes // 60\n",
    "\n",
    "\n",
    "print(hours)"
   ]
  },
  {
   "cell_type": "markdown",
   "metadata": {},
   "source": [
    "8. Insert a markdown cell to list Objectives"
   ]
  },
  {
   "cell_type": "markdown",
   "metadata": {},
   "source": [
    "The Objective is as below.\n",
    "1. To understand the data science language.\n",
    "2. To understand the data science liabraries.\n",
    "3. Various tool to leran data science.\n",
    "4. Using the dat for deriving meaningful expressions.\n",
    "5. Get an idea of all repository and how to creat a file, creat profile etc."
   ]
  },
  {
   "cell_type": "code",
   "execution_count": null,
   "metadata": {},
   "outputs": [],
   "source": []
  }
 ],
 "metadata": {
  "kernelspec": {
   "display_name": "Python",
   "language": "python",
   "name": "conda-env-python-py"
  },
  "language_info": {
   "codemirror_mode": {
    "name": "ipython",
    "version": 3
   },
   "file_extension": ".py",
   "mimetype": "text/x-python",
   "name": "python",
   "nbconvert_exporter": "python",
   "pygments_lexer": "ipython3",
   "version": "3.7.12"
  }
 },
 "nbformat": 4,
 "nbformat_minor": 4
}
